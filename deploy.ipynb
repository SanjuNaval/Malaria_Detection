{
 "cells": [
  {
   "cell_type": "code",
   "execution_count": 1,
   "id": "8313b7f2",
   "metadata": {},
   "outputs": [
    {
     "name": "stdout",
     "output_type": "stream",
     "text": [
      "Overwriting app.py\n"
     ]
    }
   ],
   "source": [
    "%%writefile app.py\n",
    "\n",
    "import os\n",
    "import numpy as np\n",
    "import streamlit as st\n",
    "from PIL import Image\n",
    "import os\n",
    "import cv2\n",
    "\n",
    "# Keras\n",
    "from tensorflow.keras.applications.imagenet_utils import preprocess_input, decode_predictions\n",
    "from tensorflow.keras.models import load_model\n",
    "from tensorflow.keras.preprocessing import image\n",
    "\n",
    "\n",
    "def save_uploaded_image(uploaded_image):\n",
    "    \n",
    "    try:\n",
    "        with open(os.path.join('new',uploaded_image.name),'wb') as f:\n",
    "            f.write(uploaded_image.getbuffer())\n",
    "        return True\n",
    "    except:\n",
    "        return False\n",
    "    \n",
    "    \n",
    "# Model saved with Keras model.save()\n",
    "MODEL_PATH ='model_vgg16.h5'\n",
    "\n",
    "# Load your trained model\n",
    "model = load_model(MODEL_PATH)\n",
    "\n",
    "def model_predict(img_path, model):\n",
    "    img = image.load_img(img_path, target_size=(64, 64))\n",
    "\n",
    "    # Preprocessing the image\n",
    "    x = image.img_to_array(img)\n",
    "    # x = np.true_divide(x, 255)\n",
    "    ## Scaling\n",
    "    x=x/255\n",
    "    x = np.expand_dims(x, axis=0)\n",
    "   \n",
    "    x = preprocess_input(x)\n",
    "\n",
    "    preds = model.predict(x)\n",
    "    preds=(preds*100)\n",
    "    preds = preds.tolist()\n",
    "    preds = [item for elem in preds for item in elem]\n",
    "    preds = [round(num) for num in preds]\n",
    "    if preds in range(50,100):\n",
    "        pred=\"The Person is not Infected With Malaria\"\n",
    "    else:\n",
    "        pred=\"The Person is Infected With Malaria\"\n",
    "    \n",
    "    \n",
    "    return pred\n",
    "    \n",
    "    \n",
    "st.title('Malaria Detection')\n",
    "\n",
    "uploaded_image = st.file_uploader('Choose an image')\n",
    "\n",
    "if uploaded_image is not None:\n",
    "    \n",
    "    # save the image in a directory\n",
    "    if save_uploaded_image(uploaded_image):\n",
    "        # load the image\n",
    "        display_image = Image.open(uploaded_image)\n",
    "        \n",
    "\n",
    "if st.button('Predict'):\n",
    "    display_image = Image.open(uploaded_image)\n",
    "        \n",
    "    # Make prediction\n",
    "    pred = model_predict((os.path.join('new',uploaded_image.name)), model)\n",
    "                              \n",
    "    # display\n",
    "    col1,col2 = st.columns(2)\n",
    "        \n",
    "    with col1:\n",
    "        st.header('Your uploaded image')\n",
    "        st.image(display_image)\n",
    "    with col2:\n",
    "        st.header(pred)          \n",
    "\n",
    "\n",
    "        "
   ]
  },
  {
   "cell_type": "code",
   "execution_count": 2,
   "id": "8cc20588",
   "metadata": {},
   "outputs": [],
   "source": [
    "!streamlit run app.py"
   ]
  },
  {
   "cell_type": "code",
   "execution_count": null,
   "id": "24342d25",
   "metadata": {},
   "outputs": [],
   "source": []
  }
 ],
 "metadata": {
  "kernelspec": {
   "display_name": "Python 3",
   "language": "python",
   "name": "python3"
  },
  "language_info": {
   "codemirror_mode": {
    "name": "ipython",
    "version": 3
   },
   "file_extension": ".py",
   "mimetype": "text/x-python",
   "name": "python",
   "nbconvert_exporter": "python",
   "pygments_lexer": "ipython3",
   "version": "3.8.8"
  }
 },
 "nbformat": 4,
 "nbformat_minor": 5
}
